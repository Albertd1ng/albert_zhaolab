{
 "cells": [
  {
   "cell_type": "code",
   "execution_count": 22,
   "id": "c2a026d3",
   "metadata": {},
   "outputs": [],
   "source": [
    "from BF2DStitch_HighNoise import *\n",
    "import cv2\n",
    "xml_path=r'E:\\high_resolution_pic\\MetaData\\TileScan 1.xml'\n",
    "img_path=r'E:\\high_resolution_pic'\n",
    "img_save_path=r'E:\\high_resolution_pic_stitched'\n",
    "save_path=r'C:\\Users\\dingj\\ZhaoLab\\20220729_BF2DStitch'"
   ]
  },
  {
   "cell_type": "code",
   "execution_count": 25,
   "id": "41ac41cd",
   "metadata": {},
   "outputs": [
    {
     "ename": "KeyboardInterrupt",
     "evalue": "",
     "output_type": "error",
     "traceback": [
      "\u001b[1;31m---------------------------------------------------------------------------\u001b[0m",
      "\u001b[1;31mKeyboardInterrupt\u001b[0m                         Traceback (most recent call last)",
      "Input \u001b[1;32mIn [25]\u001b[0m, in \u001b[0;36m<cell line: 2>\u001b[1;34m()\u001b[0m\n\u001b[0;32m      4\u001b[0m img1\u001b[38;5;241m=\u001b[39mimport_img(img_path,i,dim_elem_num)\n\u001b[0;32m      5\u001b[0m img2\u001b[38;5;241m=\u001b[39mimport_img(img_path,j,dim_elem_num)\n\u001b[1;32m----> 6\u001b[0m img3\u001b[38;5;241m=\u001b[39m\u001b[43mimport_img\u001b[49m\u001b[43m(\u001b[49m\u001b[43mimg_path\u001b[49m\u001b[43m,\u001b[49m\u001b[43ma\u001b[49m\u001b[43m,\u001b[49m\u001b[43mdim_elem_num\u001b[49m\u001b[43m)\u001b[49m\n\u001b[0;32m      7\u001b[0m img4\u001b[38;5;241m=\u001b[39mimport_img(img_path,s,dim_elem_num)\n\u001b[0;32m      8\u001b[0m img5\u001b[38;5;241m=\u001b[39mimport_img(img_path,d,dim_elem_num)\n",
      "File \u001b[1;32m~\\ZhaoLab\\20220729_BF2DStitch\\BF2DStitch_HighNoise.py:77\u001b[0m, in \u001b[0;36mimport_img\u001b[1;34m(img_path, ordinal, dim_elem_num)\u001b[0m\n\u001b[0;32m     75\u001b[0m \u001b[38;5;28;01mfor\u001b[39;00m i \u001b[38;5;129;01min\u001b[39;00m \u001b[38;5;28mrange\u001b[39m(dim_elem_num[\u001b[38;5;241m2\u001b[39m]):\n\u001b[0;32m     76\u001b[0m     img_name\u001b[38;5;241m=\u001b[39m\u001b[38;5;124mr\u001b[39m\u001b[38;5;124m'\u001b[39m\u001b[38;5;132;01m%s\u001b[39;00m\u001b[38;5;124m\\\u001b[39m\u001b[38;5;124mTileScan 1_s\u001b[39m\u001b[38;5;132;01m%.4d\u001b[39;00m\u001b[38;5;124m_z\u001b[39m\u001b[38;5;132;01m%.3d\u001b[39;00m\u001b[38;5;124m_RAW_ch00.tif\u001b[39m\u001b[38;5;124m'\u001b[39m\u001b[38;5;241m%\u001b[39m(img_path,ordinal,i)\n\u001b[1;32m---> 77\u001b[0m     voxel_array[:,:,i]\u001b[38;5;241m=\u001b[39mcv2\u001b[38;5;241m.\u001b[39mimread(img_name,cv2\u001b[38;5;241m.\u001b[39mIMREAD_GRAYSCALE)\n\u001b[0;32m     78\u001b[0m \u001b[38;5;28;01mreturn\u001b[39;00m voxel_array\n",
      "\u001b[1;31mKeyboardInterrupt\u001b[0m: "
     ]
    }
   ],
   "source": [
    "dim_elem_num,dim_len,voxel_len,tile_num,tile_field,tile_pos=get_img_xml_info(xml_path)\n",
    "for i in range(11):\n",
    "    i,j,a,s,d=1000+100*i,1020+100*i,1040+100*i,1060+100*i,1080+100*i\n",
    "    img1=import_img(img_path,i,dim_elem_num)\n",
    "    img2=import_img(img_path,j,dim_elem_num)\n",
    "    img3=import_img(img_path,a,dim_elem_num)\n",
    "    img4=import_img(img_path,s,dim_elem_num)\n",
    "    img5=import_img(img_path,d,dim_elem_num)\n",
    "    img1,img2,img3,img4,img5=cv2.medianBlur(img1,5),cv2.medianBlur(img2,5),cv2.medianBlur(img3,5),cv2.medianBlur(img4,5),cv2.medianBlur(img5,5)\n",
    "    ovl1,ovl2,ovl3,ovl4,ovl5=img1[:,:,100],img2[:,:,100],img3[:,:,100],img4[:,:,100],img5[:,:,100]\n",
    "    ovl1,ovl2,ovl3,ovl4,ovl5=ovl1.astype('uint8'),ovl2.astype('uint8'),ovl3.astype('uint8'),ovl4.astype('uint8'),ovl5.astype('uint8')\n",
    "    cv2.imshow('1',ovl1)\n",
    "    cv2.imshow('2',ovl2)\n",
    "    cv2.imshow('3',ovl3)\n",
    "    cv2.imshow('4',ovl4)\n",
    "    cv2.imshow('5',ovl5)\n",
    "    cv2.waitKey()\n",
    "    cv2.destroyAllWindows()"
   ]
  }
 ],
 "metadata": {
  "kernelspec": {
   "display_name": "Python 3 (ipykernel)",
   "language": "python",
   "name": "python3"
  },
  "language_info": {
   "codemirror_mode": {
    "name": "ipython",
    "version": 3
   },
   "file_extension": ".py",
   "mimetype": "text/x-python",
   "name": "python",
   "nbconvert_exporter": "python",
   "pygments_lexer": "ipython3",
   "version": "3.9.12"
  }
 },
 "nbformat": 4,
 "nbformat_minor": 5
}
