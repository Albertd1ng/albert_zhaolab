{
 "cells": [
  {
   "cell_type": "code",
   "execution_count": null,
   "id": "33fbc2ba",
   "metadata": {},
   "outputs": [],
   "source": [
    "import numpy as np\n",
    "import time\n",
    "import cv2\n",
    "import random\n",
    "\n",
    "def import_2D_img(img_path,img_name,z_th):\n",
    "    one_img_name=r'%s\\%sz%.3d.tif'%(img_path,img_name,z_th)\n",
    "    return cv2.imread(one_img_name,cv2.IMREAD_GRAYSCALE)\n",
    "\n",
    "\n",
    "img_path=r'F:\\20220811_VIP_Cre_DIOmS_RetromS_in_SCN'\n",
    "file_name=r'S%d'\n",
    "img_name=r''\n",
    "img_save_path=r'F:\\20220811_VIP_Cre_DIOmS_RetromS_in_SCN\\zstitched'\n",
    "save_img_name=r'merged_stitched%.4d'\n",
    "save_path=r'C:\\Users\\dingj\\ZhaoLab\\20220814_SiftVertStitch_WYL'\n",
    "stitch_layer_num=5\n",
    "\n",
    "axis_range_array=np.zeros((stitch_layer_num,6))\n",
    "for i in range(1,stitch_layer_num+1):\n",
    "    axis_range_array[i-1,:]=np.load(save_path+r'\\axis_range_stitch_%.4d.npy'%(i)).reshape((1,-1))\n",
    "xy_axis_range=np.zeros((2,2))\n",
    "xy_axis_range[0,0],xy_axis_range[0,1]=np.min(axis_range_array[:,0])-voxel_len[0]*2,np.max(axis_range_array[:,1])+voxel_len[0]*100\n",
    "xy_axis_range[1,0],xy_axis_range[1,1]=np.min(axis_range_array[:,2])-voxel_len[0]*2,np.max(axis_range_array[:,3])+voxel_len[0]*100\n",
    "xy_voxel_num=np.int64(np.round((xy_axis_range[:,1]-xy_axis_range[:,0])/voxel_len[0:2])+1)\n",
    "print(xy_voxel_num)\n",
    "\n",
    "img_num=0\n",
    "for i in range(stitch_layer_num):\n",
    "    first_last_index=np.load(save_path+r'\\first_last_index_%.4d.npy'%(i+1))\n",
    "    axis_range=np.load(save_path+r'\\axis_range_%.4d.npy'%(i+1))\n",
    "    this_img_path=img_path+'\\\\'+file_name%(i+1)\n",
    "    x_th=np.int64(np.round((axis_range[0,0]-xy_axis_range[0,0])))\n",
    "    y_th=np.int64(np.round((axis_range[1,0]-xy_axis_range[1,0])))\n",
    "    for j in range(first_last_index[0],first_last_index[1]):\n",
    "        this_img=np.zeros((xy_voxel_num[1::-1]),dtype='uint8')\n",
    "        img_2D=import_2D_img(this_img_path,img_name,j)\n",
    "        this_img[y_th:y_th+img_2D.shape[0],x_th:x_th+img_2D.shape[1]]=img_2D\n",
    "        cv2.imwrite(r'%s\\z%.4d.tif'%(img_save_path,img_num),this_img)\n",
    "        img_num+=1"
   ]
  }
 ],
 "metadata": {
  "kernelspec": {
   "display_name": "Python 3 (ipykernel)",
   "language": "python",
   "name": "python3"
  },
  "language_info": {
   "codemirror_mode": {
    "name": "ipython",
    "version": 3
   },
   "file_extension": ".py",
   "mimetype": "text/x-python",
   "name": "python",
   "nbconvert_exporter": "python",
   "pygments_lexer": "ipython3",
   "version": "3.9.12"
  }
 },
 "nbformat": 4,
 "nbformat_minor": 5
}
