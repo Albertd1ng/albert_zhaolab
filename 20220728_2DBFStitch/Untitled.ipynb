{
 "cells": [
  {
   "cell_type": "code",
   "execution_count": 54,
   "id": "ebf67eb8",
   "metadata": {},
   "outputs": [],
   "source": [
    "import numpy as np\n",
    "from BF2DStitch import *\n",
    "import cv2\n",
    "import time\n",
    "\n",
    "#functions\n",
    "def import_2D_img(img_path,ordinal,dim_elem_num,z_th):\n",
    "    img_name=r'%s\\Region 1_s%.4d_z%.3d_RAW_ch00.tif'%(img_path,ordinal,z_th)\n",
    "    return cv2.imread(img_name,cv2.IMREAD_GRAYSCALE)"
   ]
  },
  {
   "cell_type": "code",
   "execution_count": 56,
   "id": "a4578b58",
   "metadata": {},
   "outputs": [],
   "source": [
    "xml_path=r'D:\\Albert\\Data\\ZhaoLab\\Imaging\\20220219_Thy1_EGFP_M_high_resolution_40X_10overlap_50G\\MetaData\\Region 1.xml'\n",
    "img_path=r'D:\\Albert\\Data\\ZhaoLab\\Imaging\\20220219_Thy1_EGFP_M_high_resolution_40X_10overlap_50G'\n",
    "img_save_path=r'D:\\Albert\\Data\\ZhaoLab\\Imaging\\20220219_Thy1_EGFP_M_high_resolution_stitched'\n",
    "save_path=r'C:\\Users\\dingj\\ZhaoLab\\20220728_2DBFStitch'\n",
    "dim_elem_num,dim_len,voxel_len,tile_num,tile_field,tile_pos=get_img_xml_info(xml_path)\n",
    "tile_pos=np.load('tile_pos_new.npy')\n",
    "w_axis_range=np.zeros((3,2))#[[x_min,x_max],[y_min,y_max],[z_min,z_max]], w means whole images\n",
    "w_axis_range[0,0],w_axis_range[0,1]=np.min(tile_pos[:,0])-voxel_len[0]*10,np.max(tile_pos[:,0])+voxel_len[0]*(dim_elem_num[0]+10)\n",
    "w_axis_range[1,0],w_axis_range[1,1]=np.min(tile_pos[:,1])-voxel_len[1]*10,np.max(tile_pos[:,1])+voxel_len[1]*(dim_elem_num[1]+10)\n",
    "w_axis_range[2,0],w_axis_range[2,1]=np.min(tile_pos[:,2])-voxel_len[2]*2,np.max(tile_pos[:,2])+voxel_len[2]*(dim_elem_num[2]+2)\n",
    "w_voxel_num=np.int64(np.round((w_axis_range[:,1]-w_axis_range[:,0])/voxel_len))"
   ]
  },
  {
   "cell_type": "code",
   "execution_count": null,
   "id": "bbfd279b",
   "metadata": {},
   "outputs": [],
   "source": [
    "for i in range(w_voxel_num[3]):\n",
    "    this_img=np.zeros((w_voxel_num[1::-1]),dtype='uint8')\n",
    "    this_z=w_axis_range[2,0]+voxel_len[2]*i\n",
    "    for j in range(tile_num):\n",
    "        if tile_pos[j,2]+dim_len[2]<this_z:\n",
    "            continue\n",
    "        if tile_pos[j,2]>this_z:\n",
    "            continue\n",
    "        z_th=np.int64(np.round((this_z-tile_pos[j,2])/voxel_len[2]))\n",
    "        if z_th>=126:\n",
    "            continue\n",
    "        x_th=np.int64(np.round((tile_pos[j,0]-w_axis_range[0,0])/voxel_len[0]))\n",
    "        y_th=np.int64(np.round((tile_pos[j,1]-w_axis_range[1,0])/voxel_len[0]))\n",
    "        #print(x_th,y_th,z_th)\n",
    "        img_2D=import_2D_img(img_path,j,dim_elem_num,z_th)\n",
    "        this_img[y_th:y_th+dim_elem_num[1],x_th:x_th+dim_elem_num[0]]=img_2D\n",
    "    cv2.imwrite(r'%s\\a%.4d.tif'%(img_save_path,i),this_img)"
   ]
  },
  {
   "cell_type": "code",
   "execution_count": 59,
   "id": "39c6b31d",
   "metadata": {},
   "outputs": [
    {
     "name": "stdout",
     "output_type": "stream",
     "text": [
      "totally 5.282317\n"
     ]
    }
   ],
   "source": [
    "#tile_pos=np.load('tile_pos_final.npy')\n",
    "i=100\n",
    "s=time.time()\n",
    "this_img=np.zeros((w_voxel_num[1::-1]),dtype='uint8')\n",
    "this_z=w_axis_range[2,0]+voxel_len[2]*i\n",
    "for j in range(tile_num):\n",
    "    if tile_pos[j,2]+dim_len[2]<this_z:\n",
    "        continue\n",
    "    if tile_pos[j,2]>this_z:\n",
    "        continue\n",
    "    #print(j)\n",
    "    z_th=np.int64(np.round((this_z-tile_pos[j,2])/voxel_len[2]))\n",
    "    x_th=np.int64(np.round((tile_pos[j,0]-w_axis_range[0,0])/voxel_len[0]))\n",
    "    y_th=np.int64(np.round((tile_pos[j,1]-w_axis_range[1,0])/voxel_len[0]))\n",
    "    #print(x_th,y_th,z_th)\n",
    "    img_2D=import_2D_img(img_path,j,dim_elem_num,z_th)\n",
    "    this_img[y_th:y_th+dim_elem_num[1],x_th:x_th+dim_elem_num[0]]=img_2D\n",
    "cv2.imwrite(r'%s\\c%.4d.tif'%(img_save_path,i),this_img)\n",
    "e=time.time()\n",
    "print('totally %f'%(e-s))"
   ]
  },
  {
   "cell_type": "code",
   "execution_count": 53,
   "id": "3b5ffd7e",
   "metadata": {},
   "outputs": [
    {
     "data": {
      "text/plain": [
       "-1545.9999999999982"
      ]
     },
     "execution_count": 53,
     "metadata": {},
     "output_type": "execute_result"
    }
   ],
   "source": [
    "(tile_pos[491,2]-tile_pos[492,2])/voxel_len[2]"
   ]
  },
  {
   "cell_type": "code",
   "execution_count": 58,
   "id": "efe20333",
   "metadata": {
    "scrolled": true
   },
   "outputs": [
    {
     "data": {
      "text/plain": [
       "array([25406, 19420,   654], dtype=int64)"
      ]
     },
     "execution_count": 58,
     "metadata": {},
     "output_type": "execute_result"
    }
   ],
   "source": [
    "w_voxel_num"
   ]
  }
 ],
 "metadata": {
  "kernelspec": {
   "display_name": "Python 3 (ipykernel)",
   "language": "python",
   "name": "python3"
  },
  "language_info": {
   "codemirror_mode": {
    "name": "ipython",
    "version": 3
   },
   "file_extension": ".py",
   "mimetype": "text/x-python",
   "name": "python",
   "nbconvert_exporter": "python",
   "pygments_lexer": "ipython3",
   "version": "3.9.12"
  }
 },
 "nbformat": 4,
 "nbformat_minor": 5
}
