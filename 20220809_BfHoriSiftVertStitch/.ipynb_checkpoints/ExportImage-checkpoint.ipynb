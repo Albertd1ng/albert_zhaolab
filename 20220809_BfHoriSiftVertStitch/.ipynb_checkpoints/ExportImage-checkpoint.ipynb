{
 "cells": [
  {
   "cell_type": "code",
   "execution_count": 1,
   "id": "b36dcf22",
   "metadata": {},
   "outputs": [],
   "source": [
    "import numpy as np\n",
    "import time\n",
    "import cv2\n",
    "import random\n",
    "from SiftVertStitch import *\n",
    "\n",
    "def get_max_xy_axis_range(save_path,voxel_len,max_index=0,border_num=800):\n",
    "    try:\n",
    "        xy_axis_range=np.load(save_path+r'\\max_xy_axis_range.npy')\n",
    "    except:\n",
    "        axis_range=np.load(save_path+r'\\axis_range_zstitch_%.4d.npy'%(max_index))#3,2\n",
    "        xy_axis_range=np.zeros((2,2))\n",
    "        xy_axis_range[0,0],xy_axis_range[0,1]=axis_range[0,0]-border_num*voxel_len[0],axis_range[0,1]+border_num*voxel_len[0]\n",
    "        xy_axis_range[1,0],xy_axis_range[1,1]=axis_range[1,0]-border_num*voxel_len[1],axis_range[1,1]+border_num*voxel_len[1]\n",
    "        np.save(save_path+r'\\max_xy_axis_range.npy',xy_axis_range)\n",
    "    return xy_axis_range\n",
    "\n",
    "def start_export_one_layer(i,img_path_file,img_name,save_path,img_save_path,img_num):\n",
    "    dim_elem_num,dim_len,voxel_len=get_img_info(i,save_path)\n",
    "    axis_range=np.load(save_path+r'\\axis_range_zstitch_%.4d.npy'%(i))\n",
    "    xy_axis_range=get_max_xy_axis_range(save_path,voxel_len)\n",
    "    xy_voxel_num=np.int64(np.round((xy_axis_range[:,1]-xy_axis_range[:,0])/voxel_len[0:2])+1)\n",
    "    first_last_index=np.load(save_path+r'\\first_last_index_zstitch_%.4d.npy'%(i))\n",
    "    tile_pos=np.load(save_path+r'\\tile_pos_zstitch_%.4d.npy'%(i))\n",
    "    tile_num=tile_pos.shape[0]\n",
    "    for j in range(first_last_index[0],first_last_index[1]):\n",
    "        this_img=np.zeros((xy_voxel_num[1::-1]),dtype='uint8')\n",
    "        this_z=axis_range[2,0]+voxel_len[2]*j\n",
    "        for k in range(tile_num):\n",
    "            if tile_pos[k,2]+dim_len[2]<this_z:\n",
    "                continue\n",
    "            if tile_pos[k,2]>this_z:\n",
    "                continue\n",
    "            z_th=np.int64(np.round((this_z-tile_pos[k,2])/voxel_len[2]))\n",
    "            if z_th>=dim_elem_num[2]:\n",
    "                continue\n",
    "            x_th=np.int64(np.round((tile_pos[k,0]-xy_axis_range[0,0])/voxel_len[0]))\n",
    "            y_th=np.int64(np.round((tile_pos[k,1]-xy_axis_range[1,0])/voxel_len[1]))\n",
    "            img_2D=import_2D_img(img_path_file,img_name,k,z_th)\n",
    "            if x_th<0 or x_th+dim_elem_num[0]>xy_voxel_num[0] or y_th<0 or y_th+dim_elem_num[1]>xy_voxel_num[1]:\n",
    "                continue\n",
    "            this_img[y_th:y_th+dim_elem_num[1],x_th:x_th+dim_elem_num[0]]=img_2D\n",
    "        cv2.imwrite(r'%s\\a%.4d.tif'%(img_save_path,img_num.value),this_img)\n",
    "        img_num.value+=1"
   ]
  }
 ],
 "metadata": {
  "kernelspec": {
   "display_name": "Python 3 (ipykernel)",
   "language": "python",
   "name": "python3"
  },
  "language_info": {
   "codemirror_mode": {
    "name": "ipython",
    "version": 3
   },
   "file_extension": ".py",
   "mimetype": "text/x-python",
   "name": "python",
   "nbconvert_exporter": "python",
   "pygments_lexer": "ipython3",
   "version": "3.9.12"
  }
 },
 "nbformat": 4,
 "nbformat_minor": 5
}
