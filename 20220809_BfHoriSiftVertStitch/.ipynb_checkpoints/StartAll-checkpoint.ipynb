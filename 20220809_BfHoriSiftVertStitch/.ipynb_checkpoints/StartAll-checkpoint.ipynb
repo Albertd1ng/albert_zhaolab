{
 "cells": [
  {
   "cell_type": "code",
   "execution_count": 3,
   "id": "ec5610be",
   "metadata": {},
   "outputs": [
    {
     "ename": "NameError",
     "evalue": "name 'layer_num' is not defined",
     "output_type": "error",
     "traceback": [
      "\u001b[1;31m---------------------------------------------------------------------------\u001b[0m",
      "\u001b[1;31mNameError\u001b[0m                                 Traceback (most recent call last)",
      "Input \u001b[1;32mIn [3]\u001b[0m, in \u001b[0;36m<cell line: 8>\u001b[1;34m()\u001b[0m\n\u001b[0;32m     13\u001b[0m img_save_path\u001b[38;5;241m=\u001b[39m\u001b[38;5;124mr\u001b[39m\u001b[38;5;124m'\u001b[39m\u001b[38;5;124mF:\u001b[39m\u001b[38;5;124m\\\u001b[39m\u001b[38;5;124mS\u001b[39m\u001b[38;5;124m'\u001b[39m\n\u001b[0;32m     14\u001b[0m img_num\u001b[38;5;241m=\u001b[39mValue(\u001b[38;5;124m'\u001b[39m\u001b[38;5;124mi\u001b[39m\u001b[38;5;124m'\u001b[39m,\u001b[38;5;241m0\u001b[39m)\n\u001b[1;32m---> 15\u001b[0m \u001b[38;5;28;01mfor\u001b[39;00m i \u001b[38;5;129;01min\u001b[39;00m \u001b[38;5;28mrange\u001b[39m(\u001b[38;5;241m0\u001b[39m,\u001b[43mlayer_num\u001b[49m\u001b[38;5;241m+\u001b[39m\u001b[38;5;241m3\u001b[39m):\n\u001b[0;32m     16\u001b[0m     xml_path\u001b[38;5;241m=\u001b[39mimg_path\u001b[38;5;241m+\u001b[39m\u001b[38;5;124m'\u001b[39m\u001b[38;5;130;01m\\\\\u001b[39;00m\u001b[38;5;124m'\u001b[39m\u001b[38;5;241m+\u001b[39mfile_name\u001b[38;5;241m%\u001b[39m(i)\u001b[38;5;241m+\u001b[39m\u001b[38;5;124mr\u001b[39m\u001b[38;5;124m'\u001b[39m\u001b[38;5;124mMetaData\u001b[39m\u001b[38;5;124m'\u001b[39m\u001b[38;5;241m+\u001b[39m\u001b[38;5;124m'\u001b[39m\u001b[38;5;130;01m\\\\\u001b[39;00m\u001b[38;5;124m'\u001b[39m\u001b[38;5;241m+\u001b[39mimg_name\u001b[38;5;241m+\u001b[39m\u001b[38;5;124m'\u001b[39m\u001b[38;5;124m.xml\u001b[39m\u001b[38;5;124m'\u001b[39m\n\u001b[0;32m     17\u001b[0m     img_path_file\u001b[38;5;241m=\u001b[39mimg_path\u001b[38;5;241m+\u001b[39m\u001b[38;5;124m'\u001b[39m\u001b[38;5;130;01m\\\\\u001b[39;00m\u001b[38;5;124m'\u001b[39m\u001b[38;5;241m+\u001b[39mfile_name\u001b[38;5;241m%\u001b[39m(i)\n",
      "\u001b[1;31mNameError\u001b[0m: name 'layer_num' is not defined"
     ]
    }
   ],
   "source": [
    "import BfHoriStitch\n",
    "import SiftVertStitch\n",
    "import ExportImage\n",
    "import multiprocessing\n",
    "from multiprocessing import Value\n",
    "import cv2\n",
    "\n",
    "\n",
    "#python C:\\Users\\admin\\DJY\\20220809_BFhoriSIFTvertStitch\\StartAll.py\n",
    "if __name__=='__main__':\n",
    "    ##########################################################################################\n",
    "    img_name=r'Region 1'\n",
    "    img_path=r'C:\\Users\\admin\\DJY\\20220809_BFhoriSIFTvertStitch'\n",
    "    file_name='S%.4d'\n",
    "    save_path=r'C:\\Users\\admin\\DJY\\20220809_BFhoriSIFTvertStitch'\n",
    "    img_save_path=r'C:\\Users\\admin\\DJY\\20220809_BFhoriSIFTvertStitch\\S'\n",
    "    layer_num=8\n",
    "    ##########################################################################################\n",
    "    img_num=Value('i',0)\n",
    "    for i in range(0,layer_num+3):\n",
    "        if 0<=i-2<layer_num-1:\n",
    "            vert_pro=multiprocessing.Process(target=SiftVertStitch.start_vertical_stitch,args=(i-2,img_path,save_path,file_name,img_name))\n",
    "            vert_pro.start()\n",
    "        else:\n",
    "            vert_pro=None\n",
    "         \n",
    "        if 0<=i-3<layer_num:\n",
    "            img_path_file=img_path+'\\\\'+file_name%(i-3)\n",
    "            export_pro=multiprocessing.Process(target=ExportImage.start_export_one_layer,args=(i-3,img_path_file,img_name,save_path,img_save_path,img_num))\n",
    "            export_pro.start()\n",
    "        else:\n",
    "            export_pro=None\n",
    "        \n",
    "        #if 0<=i<layer_num:\n",
    "            #xml_path=img_path+'\\\\'+file_name%(i)+r'\\MetaData'+'\\\\'+img_name+'.xml'\n",
    "            #img_path_file=img_path+'\\\\'+file_name%(i)\n",
    "            #BfHoriStitch.start_multi_stitchers(i,xml_path,img_path_file,img_name,save_path,voxel_range=[21,21,9],step=3)\n",
    "        if vert_pro!=None:\n",
    "            vert_pro.join()\n",
    "        if export_pro!=None:\n",
    "            export_pro.join()"
   ]
  }
 ],
 "metadata": {
  "kernelspec": {
   "display_name": "Python 3 (ipykernel)",
   "language": "python",
   "name": "python3"
  },
  "language_info": {
   "codemirror_mode": {
    "name": "ipython",
    "version": 3
   },
   "file_extension": ".py",
   "mimetype": "text/x-python",
   "name": "python",
   "nbconvert_exporter": "python",
   "pygments_lexer": "ipython3",
   "version": "3.9.12"
  }
 },
 "nbformat": 4,
 "nbformat_minor": 5
}
