{
 "cells": [
  {
   "cell_type": "code",
   "execution_count": 1,
   "id": "fa413f3f",
   "metadata": {},
   "outputs": [],
   "source": [
    "import numpy as np\n",
    "import time\n",
    "import cv2\n",
    "import random\n",
    "\n",
    "def import_2D_img(img_path,img_name,ordinal,z_th):\n",
    "    one_img_name=r'%s\\%s_s%.4d_z%.3d_RAW_ch00.tif'%(img_path,img_name,ordinal,z_th)\n",
    "    return cv2.imread(one_img_name,cv2.IMREAD_GRAYSCALE)\n",
    "\n",
    "def get_img_info(save_path):\n",
    "    dim_elem_num=np.load(save_path+r'\\dim_elem_num.npy')\n",
    "    dim_len=np.load(save_path+r'\\dim_len.npy')\n",
    "    voxel_len=np.load(save_path+r'\\voxel_len.npy')\n",
    "    return dim_elem_num,dim_len,voxel_len"
   ]
  },
  {
   "cell_type": "code",
   "execution_count": 2,
   "id": "2b8451b9",
   "metadata": {},
   "outputs": [
    {
     "name": "stdout",
     "output_type": "stream",
     "text": [
      "[24288 26686]\n"
     ]
    }
   ],
   "source": [
    "img_path=r'F:'\n",
    "file_name=r'Whole_%.4d'\n",
    "img_name=r'TileScan 1'\n",
    "img_save_path=r'F:\\Whole'\n",
    "save_img_name=r'a%.4d'\n",
    "save_path=r'C:\\Users\\dingj\\ZhaoLab\\20220803_BFhoriSIFTvertStitch'\n",
    "stitch_layer_num=5\n",
    "\n",
    "dim_elem_num,dim_len,voxel_len=get_img_info(save_path)\n",
    "axis_range_array=np.zeros((stitch_layer_num,6))\n",
    "for i in range(stitch_layer_num):\n",
    "    axis_range_array[i,:]=np.load(save_path+r'\\axis_range_zstitch_%.4d.npy'%(i)).reshape((1,-1))\n",
    "xy_axis_range=np.zeros((2,2))\n",
    "xy_axis_range[0,0],xy_axis_range[0,1]=np.min(axis_range_array[:,0]),np.max(axis_range_array[:,1])\n",
    "xy_axis_range[1,0],xy_axis_range[1,1]=np.min(axis_range_array[:,2]),np.max(axis_range_array[:,3])\n",
    "xy_voxel_num=np.int64(np.round((xy_axis_range[:,1]-xy_axis_range[:,0])/voxel_len[0:2])+1)\n",
    "print(xy_voxel_num)\n",
    "img_num=0\n",
    "for i in range(stitch_layer_num):\n",
    "    first_last_index=np.load(save_path+r'\\first_last_index_zstitch_%.4d.npy'%(i))\n",
    "    tile_pos=np.load(save_path+r'\\tile_pos_zstitch_%.4d.npy'%(i))\n",
    "    tile_num=tile_pos.shape[0]\n",
    "    this_img_path=img_path+'\\\\'+file_name%(i)\n",
    "    for j in range(first_last_index[0],first_last_index[1]):\n",
    "        this_img=np.zeros((xy_voxel_num[1::-1]),dtype='uint8')\n",
    "        this_z=axis_range_array[i,4]+voxel_len[2]*j\n",
    "        for k in range(tile_num):\n",
    "            if tile_pos[k,2]+dim_len[2]<this_z:\n",
    "                continue\n",
    "            if tile_pos[k,2]>this_z:\n",
    "                continue\n",
    "            z_th=np.int64(np.round((this_z-tile_pos[k,2])/voxel_len[2]))\n",
    "            if z_th>=dim_elem_num[2]:\n",
    "                continue\n",
    "            x_th=np.int64(np.round((tile_pos[k,0]-xy_axis_range[0,0])/voxel_len[0]))\n",
    "            y_th=np.int64(np.round((tile_pos[k,1]-xy_axis_range[1,0])/voxel_len[1]))\n",
    "            img_2D=import_2D_img(this_img_path,img_name,k,z_th)\n",
    "            this_img[y_th:y_th+dim_elem_num[1],x_th:x_th+dim_elem_num[0]]=img_2D\n",
    "        cv2.imwrite(r'%s\\a%.4d.tif'%(img_save_path,img_num),this_img)\n",
    "        img_num+=1"
   ]
  },
  {
   "cell_type": "code",
   "execution_count": 20,
   "id": "9e70b296",
   "metadata": {},
   "outputs": [],
   "source": [
    "for i in range(2,3):\n",
    "    first_last_index=np.load(save_path+r'\\first_last_index_zstitch_%.4d.npy'%(i))\n",
    "    tile_pos=np.load(save_path+r'\\tile_pos_zstitch_%.4d.npy'%(i))\n",
    "    tile_num=tile_pos.shape[0]\n",
    "    this_img_path=img_path+'\\\\'+file_name%(i)\n",
    "    for j in range(first_last_index[0],first_last_index[1]):\n",
    "        this_img=np.zeros((xy_voxel_num[1::-1]),dtype='uint8')\n",
    "        this_z=axis_range_array[i,4]+voxel_len[2]*j\n",
    "        for k in range(tile_num):\n",
    "            if tile_pos[k,2]+dim_len[2]<this_z:\n",
    "                continue\n",
    "            if tile_pos[k,2]>this_z:\n",
    "                continue\n",
    "            z_th=np.int64(np.round((this_z-tile_pos[k,2])/voxel_len[2]))\n",
    "            if z_th>=dim_elem_num[2]:\n",
    "                continue\n",
    "            x_th=np.int64(np.round((tile_pos[k,0]-xy_axis_range[0,0])/voxel_len[0]))\n",
    "            y_th=np.int64(np.round((tile_pos[k,1]-xy_axis_range[1,0])/voxel_len[1]))\n",
    "            img_2D=import_2D_img(this_img_path,img_name,k,z_th)\n",
    "            this_img[y_th:y_th+dim_elem_num[1],x_th:x_th+dim_elem_num[0]]=img_2D\n",
    "        cv2.imwrite(r'%s\\a%.4d.tif'%(img_save_path,img_num),this_img)\n",
    "        img_num+=1"
   ]
  },
  {
   "cell_type": "code",
   "execution_count": 10,
   "id": "9e9ce31a",
   "metadata": {},
   "outputs": [
    {
     "data": {
      "text/plain": [
       "array([[-5.38850230e-03,  4.80457052e-03, -2.39229506e-03,\n",
       "         8.36663200e-03, -1.94159204e-05,  3.09161194e-04],\n",
       "       [-5.46937568e-03,  4.92860526e-03, -2.29196018e-03,\n",
       "         8.67101004e-03, -8.96119403e-06,  3.13641791e-04],\n",
       "       [-2.41218904e-03,  7.97411489e-03, -3.02042611e-03,\n",
       "         8.14096485e-03, -2.53900498e-05,  3.13641791e-04]])"
      ]
     },
     "execution_count": 10,
     "metadata": {},
     "output_type": "execute_result"
    }
   ],
   "source": [
    "axis_range_array"
   ]
  },
  {
   "cell_type": "code",
   "execution_count": 7,
   "id": "cd77a460",
   "metadata": {},
   "outputs": [
    {
     "data": {
      "text/plain": [
       "array([31086, 27035], dtype=int64)"
      ]
     },
     "execution_count": 7,
     "metadata": {},
     "output_type": "execute_result"
    }
   ],
   "source": [
    "xy_voxel_num"
   ]
  },
  {
   "cell_type": "code",
   "execution_count": null,
   "id": "8900eb83",
   "metadata": {},
   "outputs": [],
   "source": [
    "for i in range(w_voxel_num[2]):\n",
    "    this_img=np.zeros((w_voxel_num[1::-1]),dtype='uint8')\n",
    "    this_z=w_axis_range[2,0]+voxel_len[2]*i\n",
    "    for j in range(tile_num):\n",
    "        if tile_pos[j,2]+dim_len[2]<this_z:\n",
    "            continue\n",
    "        if tile_pos[j,2]>this_z:\n",
    "            continue\n",
    "        z_th=np.int64(np.round((this_z-tile_pos[j,2])/voxel_len[2]))\n",
    "        if z_th>=dim_elem_num[2]:\n",
    "            continue\n",
    "        x_th=np.int64(np.round((tile_pos[j,0]-w_axis_range[0,0])/voxel_len[0]))\n",
    "        y_th=np.int64(np.round((tile_pos[j,1]-w_axis_range[1,0])/voxel_len[1]))\n",
    "        #print(x_th,y_th,z_th)\n",
    "        img_2D=import_2D_img(img_path,file_name,j,dim_elem_num,z_th)\n",
    "        this_img[y_th:y_th+dim_elem_num[1],x_th:x_th+dim_elem_num[0]]=img_2D\n",
    "    cv2.imwrite(r'%s\\a%.4d.tif'%(img_save_path,i),this_img)"
   ]
  }
 ],
 "metadata": {
  "kernelspec": {
   "display_name": "Python 3 (ipykernel)",
   "language": "python",
   "name": "python3"
  },
  "language_info": {
   "codemirror_mode": {
    "name": "ipython",
    "version": 3
   },
   "file_extension": ".py",
   "mimetype": "text/x-python",
   "name": "python",
   "nbconvert_exporter": "python",
   "pygments_lexer": "ipython3",
   "version": "3.9.12"
  }
 },
 "nbformat": 4,
 "nbformat_minor": 5
}
